{
 "cells": [
  {
   "cell_type": "markdown",
   "id": "9ac5a248-07fc-46de-9a5f-adf41590252c",
   "metadata": {},
   "source": [
    "# Implementing EfficientNetB4"
   ]
  },
  {
   "cell_type": "code",
   "execution_count": 1,
   "id": "b218f081-9696-43d5-a264-f2bd94f51d4e",
   "metadata": {},
   "outputs": [
    {
     "name": "stderr",
     "output_type": "stream",
     "text": [
      "2023-08-01 00:54:33.148051: I tensorflow/tsl/cuda/cudart_stub.cc:28] Could not find cuda drivers on your machine, GPU will not be used.\n",
      "2023-08-01 00:54:33.199604: I tensorflow/tsl/cuda/cudart_stub.cc:28] Could not find cuda drivers on your machine, GPU will not be used.\n",
      "2023-08-01 00:54:33.200918: I tensorflow/core/platform/cpu_feature_guard.cc:182] This TensorFlow binary is optimized to use available CPU instructions in performance-critical operations.\n",
      "To enable the following instructions: AVX2 FMA, in other operations, rebuild TensorFlow with the appropriate compiler flags.\n",
      "2023-08-01 00:54:37.364600: W tensorflow/compiler/tf2tensorrt/utils/py_utils.cc:38] TF-TRT Warning: Could not find TensorRT\n"
     ]
    }
   ],
   "source": [
    "import numpy as np\n",
    "import os\n",
    "import tensorflow as tf\n",
    "from tensorflow.keras.preprocessing import image\n",
    "from tensorflow.keras.layers import Dense, GlobalAveragePooling2D\n",
    "from tensorflow.keras.models import Model\n",
    "from sklearn.model_selection import train_test_split\n",
    "from sklearn.preprocessing import LabelEncoder\n",
    "from sklearn.metrics import classification_report, confusion_matrix\n",
    "import matplotlib.pyplot as plt"
   ]
  },
  {
   "cell_type": "code",
   "execution_count": 2,
   "id": "64bf8413-f7e6-4703-8a83-5bc376494f06",
   "metadata": {},
   "outputs": [],
   "source": [
    "from tensorflow.keras.applications import EfficientNetB4\n",
    "from tensorflow.keras.applications.efficientnet import preprocess_input, decode_predictions"
   ]
  },
  {
   "cell_type": "code",
   "execution_count": 3,
   "id": "16c4eba7-ca9b-4c54-9d44-77c791caf81f",
   "metadata": {},
   "outputs": [],
   "source": [
    "# List of vitamin folders\n",
    "vitamin_folders = [\"Vitamin_A\", \"Vitamin_B\", \"Vitamin_C\", \"Vitamin_E\", \"Vitamin_K\"]\n",
    "\n",
    "# Set the output base directory in the Colab disk space\n",
    "preprocess_dir = '../output/resolution_380'"
   ]
  },
  {
   "cell_type": "markdown",
   "id": "25bc8d35-d81f-4c1e-b7d9-ecf991b3ca16",
   "metadata": {},
   "source": [
    "# Training starts from here"
   ]
  },
  {
   "cell_type": "code",
   "execution_count": 4,
   "id": "27e245ed-0ccd-4a1e-aeda-4cc93de55e3d",
   "metadata": {},
   "outputs": [],
   "source": [
    "image_files = []\n",
    "labels = []\n",
    "\n",
    "for folder in vitamin_folders:\n",
    "    folder_path = os.path.join(preprocess_dir, folder)\n",
    "    image_files.extend([os.path.join(folder_path, file) for file in os.listdir(folder_path) if file.endswith('.jpg')])\n",
    "    labels.extend([folder] * len(os.listdir(folder_path)))\n",
    "\n",
    "# Convert the labels to numerical values\n",
    "label_encoder = LabelEncoder()\n",
    "labels_encoded = label_encoder.fit_transform(labels)"
   ]
  },
  {
   "cell_type": "code",
   "execution_count": 5,
   "id": "cbefcecc-f3dd-4a3a-a516-dfe80677485c",
   "metadata": {},
   "outputs": [],
   "source": [
    "base_model = EfficientNetB4(weights='imagenet', include_top=False, input_shape=(224, 224, 3))\n",
    "\n",
    "# Add a global spatial average pooling layer\n",
    "x = base_model.output\n",
    "x = GlobalAveragePooling2D()(x)\n",
    "\n",
    "# Add a fully-connected layer\n",
    "x = Dense(128, activation='relu')(x)\n",
    "\n",
    "# Add an output layer with the number of classes\n",
    "predictions = Dense(len(vitamin_folders), activation='softmax')(x)\n",
    "\n",
    "# Create the model\n",
    "model = Model(inputs=base_model.input, outputs=predictions)"
   ]
  },
  {
   "cell_type": "code",
   "execution_count": 6,
   "id": "2217e4a6-d9b0-414f-89a9-f03a206aab7f",
   "metadata": {},
   "outputs": [],
   "source": [
    "model.compile(optimizer='adam', loss='sparse_categorical_crossentropy', metrics=['accuracy'])\n",
    "\n",
    "# Split the data into train and test sets\n",
    "train_files, test_files, train_labels, test_labels = train_test_split(image_files, labels_encoded, test_size=0.2, random_state=42)\n",
    "\n",
    "# Function to load and preprocess images\n",
    "def load_image(file_path):\n",
    "    img = image.load_img(file_path, target_size=(224, 224))\n",
    "    img = image.img_to_array(img)\n",
    "    img = preprocess_input(img)\n",
    "    return img\n",
    "\n",
    "# Load and preprocess train images\n",
    "train_images = np.array([load_image(file) for file in train_files])\n",
    "train_labels = np.array(train_labels)\n",
    "\n",
    "# Load and preprocess test images\n",
    "test_images = np.array([load_image(file) for file in test_files])\n",
    "test_labels = np.array(test_labels)"
   ]
  },
  {
   "cell_type": "code",
   "execution_count": 7,
   "id": "19fab414-faeb-4a05-acba-f20998707e40",
   "metadata": {},
   "outputs": [
    {
     "name": "stderr",
     "output_type": "stream",
     "text": [
      "2023-08-01 00:55:04.177614: W tensorflow/tsl/framework/cpu_allocator_impl.cc:83] Allocation of 1527558144 exceeds 10% of free system memory.\n"
     ]
    },
    {
     "name": "stdout",
     "output_type": "stream",
     "text": [
      "Epoch 1/10\n"
     ]
    },
    {
     "name": "stderr",
     "output_type": "stream",
     "text": [
      "2023-08-01 00:55:46.253980: W tensorflow/tsl/framework/cpu_allocator_impl.cc:83] Allocation of 231211008 exceeds 10% of free system memory.\n",
      "2023-08-01 00:55:46.304887: W tensorflow/tsl/framework/cpu_allocator_impl.cc:83] Allocation of 231211008 exceeds 10% of free system memory.\n",
      "2023-08-01 00:55:46.494531: W tensorflow/tsl/framework/cpu_allocator_impl.cc:83] Allocation of 231211008 exceeds 10% of free system memory.\n",
      "2023-08-01 00:55:46.593772: W tensorflow/tsl/framework/cpu_allocator_impl.cc:83] Allocation of 235358208 exceeds 10% of free system memory.\n"
     ]
    },
    {
     "name": "stdout",
     "output_type": "stream",
     "text": [
      "80/80 [==============================] - 1075s 13s/step - loss: 0.4941 - accuracy: 0.8214\n",
      "Epoch 2/10\n",
      "80/80 [==============================] - 970s 12s/step - loss: 0.2173 - accuracy: 0.9318\n",
      "Epoch 3/10\n",
      "80/80 [==============================] - 990s 12s/step - loss: 0.1480 - accuracy: 0.9531\n",
      "Epoch 4/10\n",
      "80/80 [==============================] - 995s 12s/step - loss: 0.1455 - accuracy: 0.9555\n",
      "Epoch 5/10\n",
      "80/80 [==============================] - 956s 12s/step - loss: 0.1749 - accuracy: 0.9519\n",
      "Epoch 6/10\n",
      "80/80 [==============================] - 962s 12s/step - loss: 0.0692 - accuracy: 0.9795\n",
      "Epoch 7/10\n",
      "80/80 [==============================] - 861s 11s/step - loss: 0.0685 - accuracy: 0.9803\n",
      "Epoch 8/10\n",
      "80/80 [==============================] - 7727s 98s/step - loss: 0.1568 - accuracy: 0.9566\n",
      "Epoch 9/10\n",
      "80/80 [==============================] - 965s 12s/step - loss: 0.1046 - accuracy: 0.9720\n",
      "Epoch 10/10\n",
      "80/80 [==============================] - 967s 12s/step - loss: 0.0490 - accuracy: 0.9854\n"
     ]
    },
    {
     "data": {
      "text/plain": [
       "<keras.callbacks.History at 0x7f25e824f9d0>"
      ]
     },
     "execution_count": 7,
     "metadata": {},
     "output_type": "execute_result"
    }
   ],
   "source": [
    "model.fit(train_images, train_labels, epochs=10, batch_size=32)"
   ]
  },
  {
   "cell_type": "code",
   "execution_count": 8,
   "id": "3243e1cb-1697-42e7-a87a-a9f1f3bf4aaa",
   "metadata": {},
   "outputs": [
    {
     "name": "stdout",
     "output_type": "stream",
     "text": [
      "20/20 [==============================] - 64s 2s/step - loss: 0.0684 - accuracy: 0.9780\n",
      "Accuracy: 0.977952778339386\n"
     ]
    }
   ],
   "source": [
    "_, accuracy = model.evaluate(test_images, test_labels)\n",
    "print('Accuracy:', accuracy)"
   ]
  },
  {
   "cell_type": "code",
   "execution_count": 9,
   "id": "cad52fbf-d753-4373-ba78-48ad35b0f7aa",
   "metadata": {},
   "outputs": [
    {
     "name": "stdout",
     "output_type": "stream",
     "text": [
      "20/20 [==============================] - 58s 3s/step\n",
      "Classification Report:\n",
      "              precision    recall  f1-score   support\n",
      "\n",
      "   Vitamin_A       0.99      0.98      0.98       152\n",
      "   Vitamin_B       0.94      0.99      0.96       150\n",
      "   Vitamin_C       0.99      0.99      0.99       194\n",
      "   Vitamin_E       1.00      1.00      1.00        54\n",
      "   Vitamin_K       0.99      0.92      0.95        85\n",
      "\n",
      "    accuracy                           0.98       635\n",
      "   macro avg       0.98      0.97      0.98       635\n",
      "weighted avg       0.98      0.98      0.98       635\n",
      "\n",
      "Confusion Matrix:\n",
      "[[149   3   0   0   0]\n",
      " [  0 148   1   0   1]\n",
      " [  2   0 192   0   0]\n",
      " [  0   0   0  54   0]\n",
      " [  0   7   0   0  78]]\n"
     ]
    }
   ],
   "source": [
    "predictions = model.predict(test_images)\n",
    "predicted_labels = np.argmax(predictions, axis=1)\n",
    "\n",
    "print(\"Classification Report:\")\n",
    "print(classification_report(test_labels, predicted_labels, target_names=vitamin_folders))\n",
    "\n",
    "print(\"Confusion Matrix:\")\n",
    "print(confusion_matrix(test_labels, predicted_labels))"
   ]
  },
  {
   "cell_type": "code",
   "execution_count": 10,
   "id": "3440ab75-1fb1-4fe3-a174-cd4cb3da1906",
   "metadata": {},
   "outputs": [],
   "source": [
    "# Define the classification_rep variable\n",
    "classification_rep = classification_report(test_labels, predicted_labels, target_names=vitamin_folders, output_dict=True)"
   ]
  },
  {
   "cell_type": "code",
   "execution_count": 11,
   "id": "5320d652-e816-4cc3-9507-19bc58efa286",
   "metadata": {},
   "outputs": [
    {
     "data": {
      "image/png": "[encoded data removed]",
      "text/plain": [
       "<Figure size 1000x600 with 1 Axes>"
      ]
     },
     "metadata": {},
     "output_type": "display_data"
    }
   ],
   "source": [
    "# Create lists for precision, recall, and f1-score\n",
    "vitamin_names = []\n",
    "precision_values = []\n",
    "recall_values = []\n",
    "f1_score_values = []\n",
    "\n",
    "# Populate the lists\n",
    "for folder in vitamin_folders:\n",
    "    vitamin_names.append(folder)\n",
    "    precision_values.append(classification_rep[folder]['precision'])\n",
    "    recall_values.append(classification_rep[folder]['recall'])\n",
    "    f1_score_values.append(classification_rep[folder]['f1-score'])\n",
    "\n",
    "# Plot the precision, recall, and f1-score using a bar plot\n",
    "plt.figure(figsize=(10, 6))\n",
    "x = np.arange(len(vitamin_names))\n",
    "width = 0.2\n",
    "\n",
    "plt.bar(x, precision_values, width, label='Precision')\n",
    "plt.bar(x + width, recall_values, width, label='Recall')\n",
    "plt.bar(x + 2 * width, f1_score_values, width, label='F1-Score')\n",
    "\n",
    "plt.xlabel('Vitamins')\n",
    "plt.ylabel('Score')\n",
    "plt.title('Classification Report')\n",
    "plt.xticks(x + width, vitamin_names)\n",
    "plt.legend()\n",
    "plt.show()"
   ]
  },
  {
   "cell_type": "code",
   "execution_count": 12,
   "id": "f3a60b1f-7ac4-4d5f-96e6-21aee2cb78e9",
   "metadata": {},
   "outputs": [
    {
     "data": {
      "image/png": "[encoded data removed]",
      "text/plain": [
       "<Figure size 800x600 with 2 Axes>"
      ]
     },
     "metadata": {},
     "output_type": "display_data"
    }
   ],
   "source": [
    "import seaborn as sns\n",
    "\n",
    "# Create a confusion matrix\n",
    "confusion_mat = confusion_matrix(test_labels, predicted_labels)\n",
    "\n",
    "# Plot confusion matrix\n",
    "plt.figure(figsize=(8, 6))\n",
    "sns.heatmap(confusion_mat, annot=True, fmt='d', xticklabels=vitamin_folders, yticklabels=vitamin_folders)\n",
    "plt.xlabel('Predicted Labels')\n",
    "plt.ylabel('True Labels')\n",
    "plt.title('Confusion Matrix')\n",
    "plt.show()"
   ]
  }
 ],
 "metadata": {
  "kernelspec": {
   "display_name": "Python 3 (ipykernel)",
   "language": "python",
   "name": "python3"
  },
  "language_info": {
   "codemirror_mode": {
    "name": "ipython",
    "version": 3
   },
   "file_extension": ".py",
   "mimetype": "text/x-python",
   "name": "python",
   "nbconvert_exporter": "python",
   "pygments_lexer": "ipython3",
   "version": "3.10.9"
  }
 },
 "nbformat": 4,
 "nbformat_minor": 5
}
